{
 "cells": [
  {
   "cell_type": "code",
   "execution_count": 17,
   "metadata": {},
   "outputs": [
    {
     "data": {
      "text/html": [
       "\n",
       "            <style>\n",
       "                .geemap-dark {\n",
       "                    --jp-widgets-color: white;\n",
       "                    --jp-widgets-label-color: white;\n",
       "                    --jp-ui-font-color1: white;\n",
       "                    --jp-layout-color2: #454545;\n",
       "                    background-color: #383838;\n",
       "                }\n",
       "\n",
       "                .geemap-dark .jupyter-button {\n",
       "                    --jp-layout-color3: #383838;\n",
       "                }\n",
       "\n",
       "                .geemap-colab {\n",
       "                    background-color: var(--colab-primary-surface-color, white);\n",
       "                }\n",
       "\n",
       "                .geemap-colab .jupyter-button {\n",
       "                    --jp-layout-color3: var(--colab-primary-surface-color, white);\n",
       "                }\n",
       "            </style>\n",
       "            "
      ],
      "text/plain": [
       "<IPython.core.display.HTML object>"
      ]
     },
     "metadata": {},
     "output_type": "display_data"
    }
   ],
   "source": [
    "import ee\n",
    "import geemap\n",
    "\n",
    "import matplotlib.pyplot as plt\n",
    "import numpy as np\n",
    "import pandas as pd\n",
    "\n",
    "# from osgeo import gdal\n",
    "\n",
    "from mpl_toolkits.mplot3d import Axes3D\n",
    "import geemap.colormaps as cm\n",
    "\n",
    "# import seaborn as sns\n",
    "# import geopandas as gpd\n",
    "\n",
    "import datetime"
   ]
  },
  {
   "cell_type": "code",
   "execution_count": 18,
   "metadata": {},
   "outputs": [
    {
     "data": {
      "text/html": [
       "\n",
       "            <style>\n",
       "                .geemap-dark {\n",
       "                    --jp-widgets-color: white;\n",
       "                    --jp-widgets-label-color: white;\n",
       "                    --jp-ui-font-color1: white;\n",
       "                    --jp-layout-color2: #454545;\n",
       "                    background-color: #383838;\n",
       "                }\n",
       "\n",
       "                .geemap-dark .jupyter-button {\n",
       "                    --jp-layout-color3: #383838;\n",
       "                }\n",
       "\n",
       "                .geemap-colab {\n",
       "                    background-color: var(--colab-primary-surface-color, white);\n",
       "                }\n",
       "\n",
       "                .geemap-colab .jupyter-button {\n",
       "                    --jp-layout-color3: var(--colab-primary-surface-color, white);\n",
       "                }\n",
       "            </style>\n",
       "            "
      ],
      "text/plain": [
       "<IPython.core.display.HTML object>"
      ]
     },
     "metadata": {},
     "output_type": "display_data"
    }
   ],
   "source": [
    "try:\n",
    "    ee.Initialize()\n",
    "except: \n",
    "    ee.Authenticate()\n",
    "    ee.Initialize()"
   ]
  },
  {
   "cell_type": "markdown",
   "metadata": {},
   "source": [
    "# Spectral Change\n",
    "\n",
    "This notebook utilizes Google Earth Engine to view trends in spectral indices over time. The temporal trends can be seasonal (one year) or over many years. Additionally, you can calculate the \"trend of the trend\" to evaluate the rate at which spectral change is occuring. \n",
    "\n",
    "You may also perform a KMeans cluster on the different spectral trends."
   ]
  },
  {
   "cell_type": "markdown",
   "metadata": {},
   "source": [
    "# Functions"
   ]
  },
  {
   "cell_type": "code",
   "execution_count": 19,
   "metadata": {},
   "outputs": [
    {
     "data": {
      "text/html": [
       "\n",
       "            <style>\n",
       "                .geemap-dark {\n",
       "                    --jp-widgets-color: white;\n",
       "                    --jp-widgets-label-color: white;\n",
       "                    --jp-ui-font-color1: white;\n",
       "                    --jp-layout-color2: #454545;\n",
       "                    background-color: #383838;\n",
       "                }\n",
       "\n",
       "                .geemap-dark .jupyter-button {\n",
       "                    --jp-layout-color3: #383838;\n",
       "                }\n",
       "\n",
       "                .geemap-colab {\n",
       "                    background-color: var(--colab-primary-surface-color, white);\n",
       "                }\n",
       "\n",
       "                .geemap-colab .jupyter-button {\n",
       "                    --jp-layout-color3: var(--colab-primary-surface-color, white);\n",
       "                }\n",
       "            </style>\n",
       "            "
      ],
      "text/plain": [
       "<IPython.core.display.HTML object>"
      ]
     },
     "metadata": {},
     "output_type": "display_data"
    }
   ],
   "source": [
    "def maskS2clouds(image):\n",
    "    \"\"\" Mask cloud and cirrus pixels from Sentinel-2 imagery using QA60 band.\n",
    "\n",
    "        Parameters:\n",
    "        image (Image): A single Image in an ImageCollection or standalone Image\n",
    "\n",
    "        Returns:\n",
    "        Image with masked features removed and original metadata\n",
    "\n",
    "    \"\"\"\n",
    "    qa = image.select('QA60')\n",
    "\n",
    "    # Bits 10 and 11 are clouds and cirrus, respectively.\n",
    "    cloudBitMask = 1 << 10\n",
    "    cirrusBitMask = 1 << 11\n",
    "\n",
    "    # Both flags should be set to zero, indicating clear conditions.\n",
    "    mask = qa.bitwiseAnd(cloudBitMask).eq(0) \\\n",
    "        .And(qa.bitwiseAnd(cirrusBitMask).eq(0)) # performs bitwise AND operation between QA60 band and cloud bitmask\n",
    "\n",
    "    return image.updateMask(mask) \\\n",
    "        .divide(10000) \\\n",
    "        .copyProperties(image, ['system:time_start']) \n",
    "\n",
    "def maskWater(image):\n",
    "    ''' Mask out water using MODIS data.\n",
    "    \n",
    "        Define waterMask prior to running.\n",
    "\n",
    "        Returns: \n",
    "        Image with pixels where water_mask < 1. '''\n",
    "    \n",
    "    return image.updateMask(waterMask.select('water_mask').lt(1))\n",
    "\n",
    "\n",
    "def maskS2snow(image):\n",
    "    ''' Mask snow from Sentinel-2 imagery with MSK_SNWPRB (snow probability mask).\n",
    "\n",
    "        Returns: \n",
    "        Image with pixels where MSK_SNWPRB < 0.9%. '''\n",
    "    \n",
    "    mask = image.select('MSK_SNWPRB').lt(0.009)\n",
    "    \n",
    "    return image.updateMask(mask).copyProperties(image, ['system:time_start'])\n",
    "\n",
    "def maskWhite(image):\n",
    "    ''' Masks white pixels to ensure all cloudy or snowy pixels are removed.\n",
    "\n",
    "        Returns: \n",
    "        Image with pixels where grayscale is greater than or equal to 2000 are removed. '''\n",
    "\n",
    "    # convert RGB values to grayscale\n",
    "    grayscale = image.expression(\n",
    "            '(.3 * 1e4 * R) + (.59 * 1e4 * G) + (.11 * 1e4 * B)', {\n",
    "            'R': image.select('B4'),\n",
    "            'G': image.select('B3'),\n",
    "            'B': image.select('B2')\n",
    "        })\n",
    "    \n",
    "    white_mask = grayscale.lte(2000)\n",
    "\n",
    "    return image.updateMask(white_mask).copyProperties(image,['system:time_start'])\n",
    "\n",
    "def clp(image):\n",
    "    '''Clips a single Image to a region of interest'''\n",
    "    return image.clip(aoi)\n",
    "\n",
    "def addNDVI(image):\n",
    "    '''Adds S2's NDVI band to each image (in an ImageCollection)'''\n",
    "    ndvi = image.normalizedDifference(['B8', 'B4']).rename('NDVI')\n",
    "    return image.addBands(ndvi).copyProperties(image, ['system:time_start'])\n",
    "\n",
    "def annual_images(y):\n",
    "    ''' Filters an image collection for a specific year (y) and date range (start and end month).\n",
    "        Applies the chosen analysis (mean, min, max, or median) to calculate the statistics for the images in that year.\n",
    "        \n",
    "        Requires:\n",
    "        index_collection, start_month, end_month, and analysis.\n",
    "    \n",
    "        Parameters: \n",
    "        y: a given year\n",
    "\n",
    "        Returns:\n",
    "        Statistcs over the image within the date range.\n",
    "    '''\n",
    "    # filter for given year\n",
    "    range_year = ee.Filter.calendarRange(y, y, 'year')\n",
    "    #filter for specified month range\n",
    "    range_month = ee.Filter.calendarRange(start_month, end_month, 'month')\n",
    "\n",
    "    # filter image collection by year and month and add a time band\n",
    "    filtered_dataset = (index_collection\n",
    "                        .filter(range_year)\n",
    "                        .filter(range_month)\n",
    "                        .map(lambda image: image.addBands(image.metadata('system:time_start').divide(3.154e10)))) # Needed for linear regression \n",
    "        \n",
    "    # Print out the number of images in the filtered dataset\n",
    "    num_images = filtered_dataset.size()\n",
    "    \n",
    "    # Choose the reducer based on the chosen analysis\n",
    "    if analysis == 'mean':\n",
    "        reducer = ee.Reducer.mean().combine( # calculates average value for each pixel across all images\n",
    "            reducer2=ee.Reducer.stdDev(), # calculates standard deviation\n",
    "            sharedInputs=True\n",
    "        )\n",
    "\n",
    "    elif analysis == 'min' or analysis == 'max':\n",
    "        reducer = ee.Reducer.mean().combine( # calculates minimum and maximum values\n",
    "            reducer2=ee.Reducer.minMax(),#\n",
    "            sharedInputs=True\n",
    "        )\n",
    "    elif analysis == 'median':\n",
    "        reducer = ee.Reducer.mean().combine( # calculates middle value for each pixel\n",
    "            reducer2=ee.Reducer.median(),\n",
    "            sharedInputs=True\n",
    "        )\n",
    "\n",
    "    # Use the combined reducer to get the statistics\n",
    "    stats = filtered_dataset.reduce(reducer)\n",
    "    return stats.set('year', y).set('num', num_images)\n",
    "    \n",
    "\n",
    "def intrayear(index_collection):\n",
    "    ''' Filter Image Collection within a single year. Used for seasonal (one-year) trends.\n",
    "\n",
    "        Function is used when start_year = end_year.\n",
    "\n",
    "        Requires: \n",
    "        index_collection, start_month, end_month, start_year, and end_year.\n",
    "\n",
    "        Parameters: \n",
    "        index_collection: an ImageCollection containing images with a chosen index\n",
    "\n",
    "        Returns:\n",
    "        filtered_dataset: Filtered Image Collection\n",
    "    '''\n",
    "    \n",
    "    range_year = ee.Filter.calendarRange(start_year, end_year, 'year')\n",
    "    range_month = ee.Filter.calendarRange(start_month, end_month, 'month')\n",
    "    \n",
    "    # add a time band with the year to each image \n",
    "    filtered_dataset = (index_collection\n",
    "                        .filter(range_year)\n",
    "                        .filter(range_month)\n",
    "                        .map(lambda image: image.addBands(image.metadata('system:time_start').divide(3.154e10)))) # Needed for linear regression \n",
    "    \n",
    "    num_images = filtered_dataset.size()\n",
    "\n",
    "    return filtered_dataset.set('year', start_year).set('num', num_images)\n",
    "\n",
    "\n",
    "def annual_trend(y):\n",
    "    ''' Calculate temporal trend for an index (NDVI) within a specified date range.\n",
    "        Applies a linear regression to analyze the trend of changes over time for the chosen index.\n",
    "        aka the trend of the trend!\n",
    "\n",
    "        Requires:\n",
    "        index_collection, start_month, and end_month.\n",
    "    \n",
    "        Parameters: \n",
    "        y: a given year\n",
    "\n",
    "        Returns:\n",
    "        Statistcs over the image within the date range.\n",
    "    '''\n",
    "    range_year = ee.Filter.calendarRange(y, y, 'year')\n",
    "    range_month = ee.Filter.calendarRange(start_month, end_month, 'month')\n",
    "   \n",
    "   # add a time band with the year to each image \n",
    "    filtered_dataset = (index_collection\n",
    "                        .filter(range_year)\n",
    "                        .filter(range_month)\n",
    "                        .map(lambda image: image.addBands(image.metadata('system:time_start').divide(3.154e10)))) # Needed for linear regression \n",
    "    \n",
    "    # Print out the number of images in the ImageCollection for each year\n",
    "    num_images = filtered_dataset.size()\n",
    "    \n",
    "    # Use the combined reducer to get the statistics\n",
    "    stats = filtered_dataset.reduce(reducer = ee.Reducer.linearFit())\n",
    "    return stats.set('year', y).set('num', num_images)\n",
    "\n",
    "def createTimeBand(image):   \n",
    "    '''Adds a time band to the image using metadata'''\n",
    "    return image.addBands(image.metadata('system:time_start').divide(3.154e10))\n",
    "\n",
    "def meanNDVI(image): \n",
    "    ''' Calculates the mean NDVI within a specific region.\n",
    "        \n",
    "        Requires:\n",
    "        ndvi, aoi\n",
    "\n",
    "        Returns:\n",
    "        Image with property 'ndvi_mean'. '''\n",
    "    \n",
    "    ndvi = image.select('NDVI')\n",
    "    ndvi_mean = ndvi.reduceRegion(\n",
    "        reducer=ee.Reducer.mean(),\n",
    "        geometry=aoi,\n",
    "        scale=10\n",
    "    ).get('NDVI')\n",
    "\n",
    "    ndvi_mean = ee.Number(ndvi_mean)\n",
    "    \n",
    "    return image.set('ndvi_mean', ndvi_mean)"
   ]
  },
  {
   "cell_type": "markdown",
   "metadata": {},
   "source": [
    "# Build collection\n"
   ]
  },
  {
   "cell_type": "markdown",
   "metadata": {},
   "source": [
    "Idea here is to locate Sentinel-2 images that (1) completely fall within the AOI and clip the images to the AOI, (2) pass through various cloud/snow/etc filters, and then (3) mask clouds, water, etc. and (4) calculate pixelwise NDVI for each image and add it as a band"
   ]
  },
  {
   "cell_type": "markdown",
   "metadata": {},
   "source": [
    "### Define AOI and build image collection. Choose a cell to use HYBAS watershed boundaries, coordinates, or upload a geoJSON."
   ]
  },
  {
   "cell_type": "code",
   "execution_count": 20,
   "metadata": {},
   "outputs": [
    {
     "data": {
      "text/html": [
       "\n",
       "            <style>\n",
       "                .geemap-dark {\n",
       "                    --jp-widgets-color: white;\n",
       "                    --jp-widgets-label-color: white;\n",
       "                    --jp-ui-font-color1: white;\n",
       "                    --jp-layout-color2: #454545;\n",
       "                    background-color: #383838;\n",
       "                }\n",
       "\n",
       "                .geemap-dark .jupyter-button {\n",
       "                    --jp-layout-color3: #383838;\n",
       "                }\n",
       "\n",
       "                .geemap-colab {\n",
       "                    background-color: var(--colab-primary-surface-color, white);\n",
       "                }\n",
       "\n",
       "                .geemap-colab .jupyter-button {\n",
       "                    --jp-layout-color3: var(--colab-primary-surface-color, white);\n",
       "                }\n",
       "            </style>\n",
       "            "
      ],
      "text/plain": [
       "<IPython.core.display.HTML object>"
      ]
     },
     "metadata": {},
     "output_type": "display_data"
    }
   ],
   "source": [
    "# We would normally feed the script a list of watershed IDs and select it from a database stored on Earth Engine\n",
    "\n",
    "HYBAS_ID = 3100180240\n",
    "\n",
    "aoi = ee.FeatureCollection(\"WWF/HydroSHEDS/v1/Basins/hybas_10\").filter(ee.Filter.eq('HYBAS_ID', HYBAS_ID))\n"
   ]
  },
  {
   "cell_type": "code",
   "execution_count": 21,
   "metadata": {},
   "outputs": [
    {
     "data": {
      "text/html": [
       "\n",
       "            <style>\n",
       "                .geemap-dark {\n",
       "                    --jp-widgets-color: white;\n",
       "                    --jp-widgets-label-color: white;\n",
       "                    --jp-ui-font-color1: white;\n",
       "                    --jp-layout-color2: #454545;\n",
       "                    background-color: #383838;\n",
       "                }\n",
       "\n",
       "                .geemap-dark .jupyter-button {\n",
       "                    --jp-layout-color3: #383838;\n",
       "                }\n",
       "\n",
       "                .geemap-colab {\n",
       "                    background-color: var(--colab-primary-surface-color, white);\n",
       "                }\n",
       "\n",
       "                .geemap-colab .jupyter-button {\n",
       "                    --jp-layout-color3: var(--colab-primary-surface-color, white);\n",
       "                }\n",
       "            </style>\n",
       "            "
      ],
      "text/plain": [
       "<IPython.core.display.HTML object>"
      ]
     },
     "metadata": {},
     "output_type": "display_data"
    }
   ],
   "source": [
    "\n",
    "long = aoi.geometry().centroid().coordinates().get(0).getInfo()\n",
    "lat = aoi.geometry().centroid().coordinates().get(1).getInfo()\n"
   ]
  },
  {
   "cell_type": "markdown",
   "metadata": {},
   "source": [
    "# Load dataset\n",
    "\n",
    "Adjust the years and months for the desired time range. \n",
    "Adjust CLOUDY_PIXEL_PERCENTAGE for desired cloudiness."
   ]
  },
  {
   "cell_type": "code",
   "execution_count": 22,
   "metadata": {},
   "outputs": [
    {
     "data": {
      "text/html": [
       "\n",
       "            <style>\n",
       "                .geemap-dark {\n",
       "                    --jp-widgets-color: white;\n",
       "                    --jp-widgets-label-color: white;\n",
       "                    --jp-ui-font-color1: white;\n",
       "                    --jp-layout-color2: #454545;\n",
       "                    background-color: #383838;\n",
       "                }\n",
       "\n",
       "                .geemap-dark .jupyter-button {\n",
       "                    --jp-layout-color3: #383838;\n",
       "                }\n",
       "\n",
       "                .geemap-colab {\n",
       "                    background-color: var(--colab-primary-surface-color, white);\n",
       "                }\n",
       "\n",
       "                .geemap-colab .jupyter-button {\n",
       "                    --jp-layout-color3: var(--colab-primary-surface-color, white);\n",
       "                }\n",
       "            </style>\n",
       "            "
      ],
      "text/plain": [
       "<IPython.core.display.HTML object>"
      ]
     },
     "metadata": {},
     "output_type": "display_data"
    }
   ],
   "source": [
    "# Get water mask\n",
    "waterMask = (\n",
    "    ee.ImageCollection('MODIS/006/MOD44W') \n",
    "    .filter(ee.Filter.date('2015-01-01', '2015-01-02')) \n",
    "    .select('water_mask') \\\n",
    "    .first()\n",
    ")\n",
    "# Get Sentinel 2 harmonized images\n",
    "dataset = (\n",
    "    ee.ImageCollection(\"COPERNICUS/S2_SR_HARMONIZED\")\n",
    "                #  Filter by year\n",
    "                  .filter(ee.Filter.calendarRange(2019,2023,'year'))\n",
    "                #  Filter by month\n",
    "                  .filter(ee.Filter.calendarRange(6,9,'month'))\n",
    "                #  Pre-filter to get less cloudy granules.\n",
    "                  .filter(ee.Filter.lt('CLOUDY_PIXEL_PERCENTAGE', 5))\n",
    "                  .filterBounds(aoi)\n",
    "                #   // This one's Toolik\n",
    "                # .filterBounds(ee.Geometry.Point(-149.5427, 68.6267).buffer(500))\n",
    "                #   // This one's Russian tree tracks\n",
    "                # .filterBounds(ee.Geometry.Point(133.16008, 66.82386).buffer(1000))\n",
    "                  .map(clp)\n",
    "                  .map(maskS2clouds)\n",
    "                  .map(maskS2snow)\n",
    "                  .map(maskWhite)\n",
    "                  .map(maskWater)\n",
    "                  .map(addNDVI)\n",
    ")"
   ]
  },
  {
   "cell_type": "code",
   "execution_count": 23,
   "metadata": {},
   "outputs": [
    {
     "data": {
      "text/html": [
       "\n",
       "            <style>\n",
       "                .geemap-dark {\n",
       "                    --jp-widgets-color: white;\n",
       "                    --jp-widgets-label-color: white;\n",
       "                    --jp-ui-font-color1: white;\n",
       "                    --jp-layout-color2: #454545;\n",
       "                    background-color: #383838;\n",
       "                }\n",
       "\n",
       "                .geemap-dark .jupyter-button {\n",
       "                    --jp-layout-color3: #383838;\n",
       "                }\n",
       "\n",
       "                .geemap-colab {\n",
       "                    background-color: var(--colab-primary-surface-color, white);\n",
       "                }\n",
       "\n",
       "                .geemap-colab .jupyter-button {\n",
       "                    --jp-layout-color3: var(--colab-primary-surface-color, white);\n",
       "                }\n",
       "            </style>\n",
       "            "
      ],
      "text/plain": [
       "<IPython.core.display.HTML object>"
      ]
     },
     "metadata": {},
     "output_type": "display_data"
    }
   ],
   "source": [
    "Map = geemap.Map(center = (lat, long), zoom = 11)"
   ]
  },
  {
   "cell_type": "markdown",
   "metadata": {},
   "source": [
    "# View pixelwise trend of annual mean NDVI"
   ]
  },
  {
   "cell_type": "markdown",
   "metadata": {},
   "source": [
    "Steps are (1) group images by year (2) find the pixelwise maximum NDVI for each year (3) calculate the trend of that pixelwise maximum for the record (i.e. find pixels that are \"greening\" and \"browning\" since 2019)"
   ]
  },
  {
   "cell_type": "code",
   "execution_count": 24,
   "metadata": {},
   "outputs": [
    {
     "data": {
      "text/html": [
       "\n",
       "            <style>\n",
       "                .geemap-dark {\n",
       "                    --jp-widgets-color: white;\n",
       "                    --jp-widgets-label-color: white;\n",
       "                    --jp-ui-font-color1: white;\n",
       "                    --jp-layout-color2: #454545;\n",
       "                    background-color: #383838;\n",
       "                }\n",
       "\n",
       "                .geemap-dark .jupyter-button {\n",
       "                    --jp-layout-color3: #383838;\n",
       "                }\n",
       "\n",
       "                .geemap-colab {\n",
       "                    background-color: var(--colab-primary-surface-color, white);\n",
       "                }\n",
       "\n",
       "                .geemap-colab .jupyter-button {\n",
       "                    --jp-layout-color3: var(--colab-primary-surface-color, white);\n",
       "                }\n",
       "            </style>\n",
       "            "
      ],
      "text/plain": [
       "<IPython.core.display.HTML object>"
      ]
     },
     "metadata": {},
     "output_type": "display_data"
    }
   ],
   "source": [
    "# Pick your index\n",
    "index = 'NDVI'\n",
    "# Choose 'mean', 'median', 'min', or 'max' for analysis\n",
    "analysis = 'max'  \n",
    "\n",
    "# limit beyond your ImageCollection\n",
    "start_year = 2019\n",
    "end_year = 2024\n",
    "start_month = 6\n",
    "end_month = 8\n",
    "\n",
    "# image collection with index band\n",
    "index_collection = dataset.select(index)  \n",
    "\n",
    "# Generate list of years\n",
    "years = ee.List.sequence(start_year, end_year)"
   ]
  },
  {
   "cell_type": "code",
   "execution_count": 25,
   "metadata": {},
   "outputs": [
    {
     "data": {
      "text/html": [
       "\n",
       "            <style>\n",
       "                .geemap-dark {\n",
       "                    --jp-widgets-color: white;\n",
       "                    --jp-widgets-label-color: white;\n",
       "                    --jp-ui-font-color1: white;\n",
       "                    --jp-layout-color2: #454545;\n",
       "                    background-color: #383838;\n",
       "                }\n",
       "\n",
       "                .geemap-dark .jupyter-button {\n",
       "                    --jp-layout-color3: #383838;\n",
       "                }\n",
       "\n",
       "                .geemap-colab {\n",
       "                    background-color: var(--colab-primary-surface-color, white);\n",
       "                }\n",
       "\n",
       "                .geemap-colab .jupyter-button {\n",
       "                    --jp-layout-color3: var(--colab-primary-surface-color, white);\n",
       "                }\n",
       "            </style>\n",
       "            "
      ],
      "text/plain": [
       "<IPython.core.display.HTML object>"
      ]
     },
     "metadata": {},
     "output_type": "display_data"
    },
    {
     "name": "stdout",
     "output_type": "stream",
     "text": [
      "Year: 2019 Number of images: 11\n",
      "Year: 2020 Number of images: 8\n",
      "Year: 2021 Number of images: 14\n",
      "Year: 2022 Number of images: 10\n",
      "Year: 2023 Number of images: 17\n",
      "Year: 2024 Number of images: 0\n"
     ]
    }
   ],
   "source": [
    "if start_year == end_year:\n",
    "    intrayear_collection = intrayear(index_collection)\n",
    "\n",
    "    item = intrayear_collection.getInfo()\n",
    "    print(\"Year:\", item['properties']['year'], \"Number of images:\", item['properties']['num'])\n",
    "\n",
    "    # Get linear fit to pixelwise trend of annual max NDVI\n",
    "    trend = intrayear_collection.select(['system:time_start',\n",
    "                                index\n",
    "                                ]).reduce(ee.Reducer.linearFit())\n",
    "\n",
    "else:\n",
    "\n",
    "    # Map over years to get yearly statistics\n",
    "    yearwise_ndvi = years.map(annual_images)\n",
    "\n",
    "    for item in yearwise_ndvi.getInfo():\n",
    "        print(\"Year:\", item['properties']['year'], \"Number of images:\", item['properties']['num'])\n",
    "\n",
    "        yearCompCol = ee.ImageCollection.fromImages(yearwise_ndvi)\n",
    "\n",
    "        # Get linear fit to pixelwise trend of annual max NDVI\n",
    "        trend = yearCompCol.select(['system:time_start_mean',\n",
    "                                    f'{index}_{analysis}'\n",
    "                                    ]).reduce(ee.Reducer.linearFit())\n",
    "\n"
   ]
  },
  {
   "cell_type": "markdown",
   "metadata": {},
   "source": [
    "### Map"
   ]
  },
  {
   "cell_type": "markdown",
   "metadata": {},
   "source": [
    "Find the min and max values of the trend, which will be used as the min and max values of the colorbar."
   ]
  },
  {
   "cell_type": "code",
   "execution_count": 26,
   "metadata": {},
   "outputs": [
    {
     "data": {
      "text/html": [
       "\n",
       "            <style>\n",
       "                .geemap-dark {\n",
       "                    --jp-widgets-color: white;\n",
       "                    --jp-widgets-label-color: white;\n",
       "                    --jp-ui-font-color1: white;\n",
       "                    --jp-layout-color2: #454545;\n",
       "                    background-color: #383838;\n",
       "                }\n",
       "\n",
       "                .geemap-dark .jupyter-button {\n",
       "                    --jp-layout-color3: #383838;\n",
       "                }\n",
       "\n",
       "                .geemap-colab {\n",
       "                    background-color: var(--colab-primary-surface-color, white);\n",
       "                }\n",
       "\n",
       "                .geemap-colab .jupyter-button {\n",
       "                    --jp-layout-color3: var(--colab-primary-surface-color, white);\n",
       "                }\n",
       "            </style>\n",
       "            "
      ],
      "text/plain": [
       "<IPython.core.display.HTML object>"
      ]
     },
     "metadata": {},
     "output_type": "display_data"
    }
   ],
   "source": [
    "scale = trend.select('scale')\n",
    "\n",
    "tMin = scale.reduceRegion(\n",
    "    reducer=ee.Reducer.min(),\n",
    "    geometry=aoi,\n",
    "    scale=500,  # Adjust the scale depending on your resolution\n",
    "    maxPixels=1e9\n",
    ").getInfo()['scale']\n",
    "\n",
    "tMax = scale.reduceRegion(\n",
    "    reducer=ee.Reducer.max(),\n",
    "    geometry=aoi,\n",
    "    scale=500,  # Adjust the scale depending on your resolution\n",
    "    maxPixels=1e9\n",
    ").getInfo()['scale']\n"
   ]
  },
  {
   "cell_type": "markdown",
   "metadata": {},
   "source": [
    "Set image limit to the number of images you would like to view."
   ]
  },
  {
   "cell_type": "code",
   "execution_count": 27,
   "metadata": {},
   "outputs": [
    {
     "data": {
      "text/html": [
       "\n",
       "            <style>\n",
       "                .geemap-dark {\n",
       "                    --jp-widgets-color: white;\n",
       "                    --jp-widgets-label-color: white;\n",
       "                    --jp-ui-font-color1: white;\n",
       "                    --jp-layout-color2: #454545;\n",
       "                    background-color: #383838;\n",
       "                }\n",
       "\n",
       "                .geemap-dark .jupyter-button {\n",
       "                    --jp-layout-color3: #383838;\n",
       "                }\n",
       "\n",
       "                .geemap-colab {\n",
       "                    background-color: var(--colab-primary-surface-color, white);\n",
       "                }\n",
       "\n",
       "                .geemap-colab .jupyter-button {\n",
       "                    --jp-layout-color3: var(--colab-primary-surface-color, white);\n",
       "                }\n",
       "            </style>\n",
       "            "
      ],
      "text/plain": [
       "<IPython.core.display.HTML object>"
      ]
     },
     "metadata": {},
     "output_type": "display_data"
    },
    {
     "data": {
      "application/vnd.jupyter.widget-view+json": {
       "model_id": "c5467cd26bf34fe0921bdef0a512c0e3",
       "version_major": 2,
       "version_minor": 0
      },
      "text/plain": [
       "Map(center=[66.85788224579, 134.7459434786377], controls=(WidgetControl(options=['position', 'transparent_bg']…"
      ]
     },
     "metadata": {},
     "output_type": "display_data"
    }
   ],
   "source": [
    "image_limit = 5\n",
    "\n",
    "# view RGB\n",
    "for image_id in intrayear(dataset).aggregate_array(\"system:index\").getInfo()[0:image_limit]:\n",
    "        image = intrayear(dataset).filterMetadata(\"system:index\", \"equals\", image_id).first()\n",
    "        \n",
    "        image_RGB = image.select('B4', 'B3', 'B2') \n",
    "        RGB_vis_params = {'min': 0.0, 'max': 0.3}\n",
    "        Map.addLayer(image_RGB, RGB_vis_params, ee.Image(image).date().format('yyyy-MM-dd').getInfo(), True)\n",
    "\n",
    "# view NDVI\n",
    "# for image_id in intrayear_collection.aggregate_array(\"system:index\").getInfo()[0:image_limit]:\n",
    "#         image = intrayear_collection.filterMetadata(\"system:index\", \"equals\", image_id).first()\n",
    "#         date_string = ee.Image(image).date().format('yyyy-MM-dd').getInfo()\n",
    "\n",
    "#         Map.addLayer(image.select('NDVI'), {}, f'{date_string}_NDVI', False)\n",
    "\n",
    "# view trend\n",
    "Map.addLayer(trend.select('scale'),\n",
    "              {'min': tMin, 'max': tMax,\n",
    "            'palette': ['red', 'white', 'blue']\n",
    "            },\n",
    " 'trend')\n",
    "\n",
    "# add colorbar for trend\n",
    "Map.add_colorbar_branca(colors=['red', 'white', 'blue'], vmin=tMin, vmax=tMax, layer_name='trend')\n",
    "\n",
    "Map"
   ]
  },
  {
   "cell_type": "markdown",
   "metadata": {},
   "source": [
    "# Get pixelwise data and use it to analyze/visualize"
   ]
  },
  {
   "cell_type": "markdown",
   "metadata": {},
   "source": [
    "In this example we just get the mean NDVI for each image in the record for the AOI "
   ]
  },
  {
   "cell_type": "code",
   "execution_count": 28,
   "metadata": {},
   "outputs": [
    {
     "data": {
      "text/html": [
       "\n",
       "            <style>\n",
       "                .geemap-dark {\n",
       "                    --jp-widgets-color: white;\n",
       "                    --jp-widgets-label-color: white;\n",
       "                    --jp-ui-font-color1: white;\n",
       "                    --jp-layout-color2: #454545;\n",
       "                    background-color: #383838;\n",
       "                }\n",
       "\n",
       "                .geemap-dark .jupyter-button {\n",
       "                    --jp-layout-color3: #383838;\n",
       "                }\n",
       "\n",
       "                .geemap-colab {\n",
       "                    background-color: var(--colab-primary-surface-color, white);\n",
       "                }\n",
       "\n",
       "                .geemap-colab .jupyter-button {\n",
       "                    --jp-layout-color3: var(--colab-primary-surface-color, white);\n",
       "                }\n",
       "            </style>\n",
       "            "
      ],
      "text/plain": [
       "<IPython.core.display.HTML object>"
      ]
     },
     "metadata": {},
     "output_type": "display_data"
    }
   ],
   "source": [
    "clp_collection = index_collection.map(clp)\n",
    "\n",
    "# average NDVI\n",
    "ndvi_collection = clp_collection.map(meanNDVI)"
   ]
  },
  {
   "cell_type": "code",
   "execution_count": 29,
   "metadata": {},
   "outputs": [
    {
     "data": {
      "text/html": [
       "\n",
       "            <style>\n",
       "                .geemap-dark {\n",
       "                    --jp-widgets-color: white;\n",
       "                    --jp-widgets-label-color: white;\n",
       "                    --jp-ui-font-color1: white;\n",
       "                    --jp-layout-color2: #454545;\n",
       "                    background-color: #383838;\n",
       "                }\n",
       "\n",
       "                .geemap-dark .jupyter-button {\n",
       "                    --jp-layout-color3: #383838;\n",
       "                }\n",
       "\n",
       "                .geemap-colab {\n",
       "                    background-color: var(--colab-primary-surface-color, white);\n",
       "                }\n",
       "\n",
       "                .geemap-colab .jupyter-button {\n",
       "                    --jp-layout-color3: var(--colab-primary-surface-color, white);\n",
       "                }\n",
       "            </style>\n",
       "            "
      ],
      "text/plain": [
       "<IPython.core.display.HTML object>"
      ]
     },
     "metadata": {},
     "output_type": "display_data"
    }
   ],
   "source": [
    "image_list = ndvi_collection.getInfo()\n",
    "data = []\n",
    "\n",
    "# add date and mean NDVI to data frame\n",
    "for img in image_list['features']:\n",
    "    properties = img['properties']\n",
    "    data.append({\n",
    "            'date': ee.Date(properties['system:time_start']).format('YYYY-MM-dd').getInfo(),\n",
    "            'ndvi_mean': properties.get('ndvi_mean')\n",
    "        })\n",
    "    \n",
    "df = pd.DataFrame(data, columns=['date', 'ndvi_mean'])"
   ]
  },
  {
   "cell_type": "code",
   "execution_count": 30,
   "metadata": {},
   "outputs": [
    {
     "data": {
      "text/html": [
       "\n",
       "            <style>\n",
       "                .geemap-dark {\n",
       "                    --jp-widgets-color: white;\n",
       "                    --jp-widgets-label-color: white;\n",
       "                    --jp-ui-font-color1: white;\n",
       "                    --jp-layout-color2: #454545;\n",
       "                    background-color: #383838;\n",
       "                }\n",
       "\n",
       "                .geemap-dark .jupyter-button {\n",
       "                    --jp-layout-color3: #383838;\n",
       "                }\n",
       "\n",
       "                .geemap-colab {\n",
       "                    background-color: var(--colab-primary-surface-color, white);\n",
       "                }\n",
       "\n",
       "                .geemap-colab .jupyter-button {\n",
       "                    --jp-layout-color3: var(--colab-primary-surface-color, white);\n",
       "                }\n",
       "            </style>\n",
       "            "
      ],
      "text/plain": [
       "<IPython.core.display.HTML object>"
      ]
     },
     "metadata": {},
     "output_type": "display_data"
    }
   ],
   "source": [
    "# convert date to datetime\n",
    "df['date'] = pd.to_datetime(df['date'])\n",
    "\n",
    "df['doy'] = df['date'].dt.dayofyear\n",
    "df['year'] = df['date'].dt.year\n",
    "\n",
    "# add ordinal date column to assist with plotting\n",
    "df['date_ordinal'] = df['date'].apply(lambda x: x.toordinal())"
   ]
  },
  {
   "cell_type": "code",
   "execution_count": 31,
   "metadata": {},
   "outputs": [
    {
     "data": {
      "text/html": [
       "\n",
       "            <style>\n",
       "                .geemap-dark {\n",
       "                    --jp-widgets-color: white;\n",
       "                    --jp-widgets-label-color: white;\n",
       "                    --jp-ui-font-color1: white;\n",
       "                    --jp-layout-color2: #454545;\n",
       "                    background-color: #383838;\n",
       "                }\n",
       "\n",
       "                .geemap-dark .jupyter-button {\n",
       "                    --jp-layout-color3: #383838;\n",
       "                }\n",
       "\n",
       "                .geemap-colab {\n",
       "                    background-color: var(--colab-primary-surface-color, white);\n",
       "                }\n",
       "\n",
       "                .geemap-colab .jupyter-button {\n",
       "                    --jp-layout-color3: var(--colab-primary-surface-color, white);\n",
       "                }\n",
       "            </style>\n",
       "            "
      ],
      "text/plain": [
       "<IPython.core.display.HTML object>"
      ]
     },
     "metadata": {},
     "output_type": "display_data"
    },
    {
     "data": {
      "image/png": "[encoded data removed]",
      "text/plain": [
       "<Figure size 900x300 with 1 Axes>"
      ]
     },
     "metadata": {},
     "output_type": "display_data"
    }
   ],
   "source": [
    "fig, ax = plt.subplots(figsize=(9,3))\n",
    "df.plot.scatter(x='date', y='ndvi_mean', ax=ax)\n",
    "fig.tight_layout()"
   ]
  },
  {
   "cell_type": "code",
   "execution_count": 32,
   "metadata": {},
   "outputs": [
    {
     "data": {
      "text/html": [
       "\n",
       "            <style>\n",
       "                .geemap-dark {\n",
       "                    --jp-widgets-color: white;\n",
       "                    --jp-widgets-label-color: white;\n",
       "                    --jp-ui-font-color1: white;\n",
       "                    --jp-layout-color2: #454545;\n",
       "                    background-color: #383838;\n",
       "                }\n",
       "\n",
       "                .geemap-dark .jupyter-button {\n",
       "                    --jp-layout-color3: #383838;\n",
       "                }\n",
       "\n",
       "                .geemap-colab {\n",
       "                    background-color: var(--colab-primary-surface-color, white);\n",
       "                }\n",
       "\n",
       "                .geemap-colab .jupyter-button {\n",
       "                    --jp-layout-color3: var(--colab-primary-surface-color, white);\n",
       "                }\n",
       "            </style>\n",
       "            "
      ],
      "text/plain": [
       "<IPython.core.display.HTML object>"
      ]
     },
     "metadata": {},
     "output_type": "display_data"
    },
    {
     "data": {
      "image/png": "[encoded data removed]",
      "text/plain": [
       "<Figure size 900x300 with 1 Axes>"
      ]
     },
     "metadata": {},
     "output_type": "display_data"
    }
   ],
   "source": [
    "fig, ax = plt.subplots(figsize=(9,3))\n",
    "colors = {\n",
    "    2019:'r',\n",
    "    2020:'orange',\n",
    "    2021:'g',\n",
    "    2022:'b',\n",
    "    2023 : 'purple'\n",
    "}\n",
    "for year, group in df.groupby(by='year'):\n",
    "    group.plot(x='doy', y='ndvi_mean', label=year, color=colors[year], ax=ax)\n",
    "fig.tight_layout()"
   ]
  }
 ],
 "metadata": {
  "kernelspec": {
   "display_name": "gee",
   "language": "python",
   "name": "python3"
  },
  "language_info": {
   "codemirror_mode": {
    "name": "ipython",
    "version": 3
   },
   "file_extension": ".py",
   "mimetype": "text/x-python",
   "name": "python",
   "nbconvert_exporter": "python",
   "pygments_lexer": "ipython3",
   "version": "3.11.10"
  }
 },
 "nbformat": 4,
 "nbformat_minor": 2
}
